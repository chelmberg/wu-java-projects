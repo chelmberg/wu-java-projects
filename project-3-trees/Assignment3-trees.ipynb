{
 "cells": [
  {
   "cell_type": "code",
   "execution_count": 19,
   "metadata": {
    "deletable": false,
    "editable": false,
    "nbgrader": {
     "cell_type": "code",
     "checksum": "51d585fdd2a75a0d938c6e2fc2650fa1",
     "grade": false,
     "grade_id": "cell-68193126f7b7e7ce",
     "locked": true,
     "schema_version": 3,
     "solution": false,
     "task": false
    }
   },
   "outputs": [],
   "source": [
    "import java.io.File;\n",
    "import java.util.Scanner;\n",
    "import java.lang.Float;"
   ]
  },
  {
   "cell_type": "markdown",
   "metadata": {
    "deletable": false,
    "editable": false,
    "nbgrader": {
     "cell_type": "markdown",
     "checksum": "7c0643dda0ded7cf1a2d8d5e39dc5672",
     "grade": false,
     "grade_id": "cell-7575be7c67d94cb3",
     "locked": true,
     "schema_version": 3,
     "solution": false,
     "task": false
    }
   },
   "source": [
    "## Assignment 3 (Group)\n",
    "\n",
    "Für diese Aufgabe müssen Sie zuerst die Datei `data.txt` aus MyLearn in Ihrer Jupyter-Umgebung ablegen; diese muss im gleichen Verzeichnis wie dieses Notebook untergebracht werden."
   ]
  },
  {
   "cell_type": "markdown",
   "metadata": {
    "deletable": false,
    "editable": false,
    "nbgrader": {
     "cell_type": "markdown",
     "checksum": "9b78c1e4300fd23448a5d67232055174",
     "grade": false,
     "grade_id": "cell-86f0985af6ab4bb7",
     "locked": true,
     "schema_version": 3,
     "solution": false,
     "task": false
    }
   },
   "source": [
    "Mit den folgenden Zeilen Programmcode wird zuerst eine Klasse `Person` erstellt. Eine Person wird durch einen Namen, ihr Geschlecht, und eine Liste, in der die Kinder dieser Person gespeichert werden (wieder als Person-Objekte), beschrieben."
   ]
  },
  {
   "cell_type": "code",
   "execution_count": 20,
   "metadata": {
    "deletable": false,
    "editable": false,
    "nbgrader": {
     "cell_type": "code",
     "checksum": "29cfd6ad267f97157c9207d9ff4798cc",
     "grade": false,
     "grade_id": "cell-7f3c8bc781c8f2cb",
     "locked": true,
     "schema_version": 3,
     "solution": false,
     "task": false
    }
   },
   "outputs": [],
   "source": [
    "class Person {\n",
    "    String name;\n",
    "    String sex;\n",
    "    List<Person> children;\n",
    "    \n",
    "    public Person(String name, String sex) {\n",
    "        this.name = name;\n",
    "        this.sex = sex;\n",
    "        this.children = new ArrayList<Person>();\n",
    "    }\n",
    "}"
   ]
  },
  {
   "cell_type": "markdown",
   "metadata": {
    "deletable": false,
    "editable": false,
    "nbgrader": {
     "cell_type": "markdown",
     "checksum": "cf04ac6658de856514a15d994038f5af",
     "grade": false,
     "grade_id": "cell-b512ac4389e80753",
     "locked": true,
     "schema_version": 3,
     "solution": false,
     "task": false
    }
   },
   "source": [
    "Hier werden nun aus der Date `data.txt` eine Reihe von Personen und deren Beziehung (`parentOf`) ausgelesen. Diese werden in der Map `allPersons` gespeichert:\n",
    "\n",
    "$ allPersons := \\{jan \\rightarrow \\{name \\rightarrow jan,  sex \\rightarrow male, children \\rightarrow \\{...\\},  ...\\} $\n"
   ]
  },
  {
   "cell_type": "code",
   "execution_count": 21,
   "metadata": {
    "deletable": false,
    "editable": false,
    "nbgrader": {
     "cell_type": "code",
     "checksum": "70aa9db25d589602a91349a785fff07e",
     "grade": false,
     "grade_id": "cell-164bea90f7859d6e",
     "locked": true,
     "schema_version": 3,
     "solution": false,
     "task": false
    }
   },
   "outputs": [],
   "source": [
    "Map<String, Person> allPersons = new HashMap<String, Person>();\n",
    "\n",
    "File file = new File(\"data.txt\");\n",
    "Scanner sc = new Scanner(file);\n",
    "String name;\n",
    "String newLine;\n",
    "String[] names;\n",
    "\n",
    "/* In a first iteration, we add all people */\n",
    "while (sc.hasNextLine()) {\n",
    "    newLine = sc.nextLine();\n",
    "    if (newLine.indexOf(\"female\") == 0) {\n",
    "        name = newLine.substring((newLine.indexOf(\"(\")+1), newLine.indexOf(\")\"));\n",
    "        allPersons.put(name, new Person(name, \"female\"));\n",
    "    } else if (newLine.indexOf(\"male\") == 0) {\n",
    "        name = newLine.substring((newLine.indexOf(\"(\")+1), newLine.indexOf(\")\"));\n",
    "        allPersons.put(name, new Person(name, \"male\"));\n",
    "    }\n",
    "}\n",
    "\n",
    "file = new File(\"data.txt\");\n",
    "sc = new Scanner(file);\n",
    "\n",
    "/* In another iteration, we add all children */\n",
    "while (sc.hasNextLine()) {\n",
    "    newLine = sc.nextLine();\n",
    "    if (newLine.indexOf(\"parentOf\") == 0) {\n",
    "        newLine = newLine.substring((newLine.indexOf(\"(\")+1), newLine.indexOf(\")\"));\n",
    "        names = newLine.split(\",\");\n",
    "        allPersons.get(names[0]).children.add(allPersons.get(names[1]));\n",
    "    }\n",
    "}"
   ]
  },
  {
   "cell_type": "code",
   "execution_count": 22,
   "metadata": {
    "deletable": false,
    "editable": false,
    "nbgrader": {
     "cell_type": "code",
     "checksum": "badd6d9fc03af1baf836741ea61edb45",
     "grade": false,
     "grade_id": "cell-e75dbff4e61fa0e4",
     "locked": true,
     "schema_version": 3,
     "solution": false,
     "task": false
    }
   },
   "outputs": [],
   "source": [
    "/* Check the number of recorded persons */\n",
    "assert allPersons.size() == 2000;"
   ]
  },
  {
   "cell_type": "code",
   "execution_count": 23,
   "metadata": {
    "deletable": false,
    "editable": false,
    "nbgrader": {
     "cell_type": "code",
     "checksum": "7fd8620e796be392af31aea8265cfed6",
     "grade": false,
     "grade_id": "cell-26a0b197b661befd",
     "locked": true,
     "schema_version": 3,
     "solution": false,
     "task": false
    }
   },
   "outputs": [
    {
     "name": "stdout",
     "output_type": "stream",
     "text": [
      "Name: jan\n",
      "Sex: male\n",
      "Children:\n",
      "marko\n",
      "anna15\n"
     ]
    }
   ],
   "source": [
    "/* access a single person in allPersons via the name as key */\n",
    "Person p1 = allPersons.get(\"jan\");\n",
    "\n",
    "System.out.println(\"Name: \" + p1.name);\n",
    "System.out.println(\"Sex: \" + p1.sex);\n",
    "System.out.println(\"Children:\");\n",
    "for (Person p : p1.children) {\n",
    "    System.out.println(p.name);\n",
    "}"
   ]
  },
  {
   "cell_type": "markdown",
   "metadata": {
    "deletable": false,
    "editable": false,
    "nbgrader": {
     "cell_type": "markdown",
     "checksum": "1c892d9070fb0b46185d550978eb1420",
     "grade": false,
     "grade_id": "cell-7b329c751db5fbe2",
     "locked": true,
     "schema_version": 3,
     "solution": false,
     "task": false
    }
   },
   "source": [
    "## Aufgabe 1\n",
    "\n",
    "* Berechnen Sie die maximale und die durchschnittliche Anzahl an Kindern in dieser Personenliste.\n",
    "* Vervollständigen Sie `describe`. Diese Funktion retourniert ein Array mit zwei `float`-Einträgen. \n",
    "    - Feldeintrag 0 enthält die maximale Anzahl an Kindern über alle Personen.\n",
    "    - Feldeintrag 1 enthält die durchschnittliche Anzahl an Kindern über alle Personen."
   ]
  },
  {
   "cell_type": "code",
   "execution_count": 24,
   "metadata": {
    "deletable": false,
    "nbgrader": {
     "cell_type": "code",
     "checksum": "f7fc5734269119370916e52f161b4ed1",
     "grade": false,
     "grade_id": "cell-2347b8d002df09be",
     "locked": false,
     "schema_version": 3,
     "solution": true,
     "task": false
    }
   },
   "outputs": [
    {
     "name": "stdout",
     "output_type": "stream",
     "text": [
      "maximale Anzahl an Kinder: 5.0\n",
      "durchschnittliche Anzahl an Kinder: 1.354\n"
     ]
    }
   ],
   "source": [
    "float[] describe(Map<String, Person> m) {\n",
    "    // YOUR CODE HERE\n",
    "    \n",
    "    float maxKinder = 0;\n",
    "    float anzahlKinder = 0;\n",
    "    float anzahlPersonen = 0;\n",
    "    \n",
    "    for(Map.Entry<String, Person> aktuellerWert : m.entrySet()) {\n",
    "\n",
    "        Person personValue = aktuellerWert.getValue();\n",
    "        \n",
    "        // Maximale Anzahl Kinder\n",
    "        if (personValue.children.size() > maxKinder) {\n",
    "            maxKinder = personValue.children.size();\n",
    "        }\n",
    "        \n",
    "        anzahlKinder = anzahlKinder + personValue.children.size();\n",
    "        anzahlPersonen++;\n",
    "    }\n",
    "    \n",
    "    float durchAnzahlKinder = anzahlKinder / anzahlPersonen;\n",
    "    \n",
    "    return new float[] {maxKinder, durchAnzahlKinder};       \n",
    "}\n",
    "\n",
    "// Testausgabe\n",
    "float[] rueckgabe = describe(allPersons);\n",
    "System.out.println(\"maximale Anzahl an Kinder: \" + rueckgabe[0]);\n",
    "System.out.println(\"durchschnittliche Anzahl an Kinder: \" + rueckgabe[1]);"
   ]
  },
  {
   "cell_type": "code",
   "execution_count": 25,
   "metadata": {
    "deletable": false,
    "editable": false,
    "nbgrader": {
     "cell_type": "code",
     "checksum": "2407776123ee8ec68b290b86a377eaef",
     "grade": true,
     "grade_id": "cell-d8b6e26af998461c",
     "locked": true,
     "points": 2,
     "schema_version": 3,
     "solution": false,
     "task": false
    }
   },
   "outputs": [],
   "source": [
    "// Do not edit this cell."
   ]
  },
  {
   "cell_type": "markdown",
   "metadata": {
    "deletable": false,
    "editable": false,
    "nbgrader": {
     "cell_type": "markdown",
     "checksum": "2b1ba98e695573b0ef19c2c4345e85df",
     "grade": false,
     "grade_id": "cell-51e1574dce109e46",
     "locked": true,
     "schema_version": 3,
     "solution": false,
     "task": false
    }
   },
   "source": [
    "## Aufgabe 2\n",
    "\n",
    "* Wie viele Personen ohne Vorfahren gibt es (*Wurzelknoten*)?\n",
    "* Vervollständigen Sie `findRoots`. Die Funktion retourniert eine Liste von allen Personen, die keine Vorfahren haben (*Personenobjekte*). "
   ]
  },
  {
   "cell_type": "code",
   "execution_count": 26,
   "metadata": {
    "deletable": false,
    "nbgrader": {
     "cell_type": "code",
     "checksum": "d077fda6613a7661fa2c8dfb7a0a97d6",
     "grade": false,
     "grade_id": "cell-44d29efe6fa2455c",
     "locked": false,
     "schema_version": 3,
     "solution": true,
     "task": false
    }
   },
   "outputs": [
    {
     "name": "stdout",
     "output_type": "stream",
     "text": [
      "Es gibt 646 Personen ohne Vorfahren.\n"
     ]
    }
   ],
   "source": [
    "List<Person> findRoots(Map<String, Person> m) {\n",
    "    List<String> children = new ArrayList<String>();\n",
    "    \n",
    "    // Alle Kinder in Liste geben\n",
    "    for(Map.Entry<String, Person> aktuellerWert : m.entrySet()) {\n",
    "\n",
    "        Person personValue = aktuellerWert.getValue();\n",
    "        \n",
    "        for (Person p : personValue.children) {\n",
    "            children.add(p.name);\n",
    "        }\n",
    "    }\n",
    "    \n",
    "    List<Person> rootPersons = new ArrayList<Person>();\n",
    "    \n",
    "    // Alle Personen durchgehen und vergleichen ob sie in Liste von allen Kindern sind, wenn nicht, sind sie Roots\n",
    "    for(Map.Entry<String, Person> aktuellerWert : m.entrySet()) {\n",
    "\n",
    "        Person personValue = aktuellerWert.getValue();\n",
    "        Boolean root = true;\n",
    "        \n",
    "        for (String child : children) {\n",
    "            if (child.equals(personValue.name)) {\n",
    "                root = false;\n",
    "                break;\n",
    "            } \n",
    "        }\n",
    "        \n",
    "        if (root) {\n",
    "            Person newRoot = new Person(personValue.name, personValue.sex);\n",
    "            newRoot.children = personValue.children;\n",
    "            \n",
    "            rootPersons.add(newRoot);\n",
    "        }\n",
    "    }\n",
    "    \n",
    "    return rootPersons;\n",
    "}\n",
    "\n",
    "// Testausgabe\n",
    "List<Person> roots = findRoots(allPersons);\n",
    "\n",
    "System.out.println(\"Es gibt \"+ roots.size() + \" Personen ohne Vorfahren.\");"
   ]
  },
  {
   "cell_type": "code",
   "execution_count": 27,
   "metadata": {
    "deletable": false,
    "editable": false,
    "nbgrader": {
     "cell_type": "code",
     "checksum": "24dc9711339170e245d09df44797db9d",
     "grade": true,
     "grade_id": "cell-fa2f12927b6f263e",
     "locked": true,
     "points": 3,
     "schema_version": 3,
     "solution": false,
     "task": false
    }
   },
   "outputs": [],
   "source": [
    "/* DO NOT ALTER OR DELETE THIS CELL! */"
   ]
  },
  {
   "cell_type": "markdown",
   "metadata": {
    "deletable": false,
    "editable": false,
    "nbgrader": {
     "cell_type": "markdown",
     "checksum": "849ae1436db073b4d016dfd417495d26",
     "grade": false,
     "grade_id": "cell-637c623bc8b6fcc6",
     "locked": true,
     "schema_version": 3,
     "solution": false,
     "task": false
    }
   },
   "source": [
    "## Aufgabe 3\n",
    "\n",
    "* Bestimmen Sie dazu den längsten Generationenpfad, und geben Sie ihn aus.\n",
    "* Vervollständigen Sie `findSinglePath` und `findLongestPath`.\n",
    "* `findSinglePath` soll die Anzahl der nachkommenden Generation einer Person ausgeben. \n",
    "  * Wenn die Person keine Nachkommen hat, wird 1 retourniert.\n",
    "  * Wenn die Person Nachkommen hat, wird > 1 retourniert, d.h. für jede Generation um 1 erhöht. (d.h.: keine Kinder: 1; Kinder: 2; Enkelkinder: 3 usw.)\n",
    "* `findLongestPath` gibt die Länge der längsten Generationenkette aus. \n",
    "        "
   ]
  },
  {
   "cell_type": "code",
   "execution_count": 28,
   "metadata": {
    "deletable": false,
    "nbgrader": {
     "cell_type": "code",
     "checksum": "d957013badfd8a1606f5b930dd4ecbd8",
     "grade": false,
     "grade_id": "cell-9d28d53496b5d707",
     "locked": false,
     "schema_version": 3,
     "solution": true,
     "task": false
    }
   },
   "outputs": [],
   "source": [
    "int findSinglePath(Person p) {\n",
    "    // YOUR CODE HERE   \n",
    "    \n",
    "    int anzahl = 1;\n",
    "    int maxGenerationLevel = 0;\n",
    "    int temporalGenerationenLevel = 0;\n",
    "    \n",
    "    if (p.children.size() > 0)\n",
    "    {\n",
    "        for (Person child : p.children) {\n",
    "            temporalGenerationenLevel = anzahl + findSinglePath(child);\n",
    "            \n",
    "            if (temporalGenerationenLevel > maxGenerationLevel) {\n",
    "                maxGenerationLevel = temporalGenerationenLevel;\n",
    "            }\n",
    "        }\n",
    "        \n",
    "        anzahl = maxGenerationLevel;\n",
    "    }\n",
    "        \n",
    "    return anzahl;\n",
    "}\n",
    "\n",
    "int findLongestPath(Map<String, Person> m) {\n",
    "    // YOUR CODE HERE\n",
    "    int maxGeneration = 0;\n",
    "    for(Map.Entry<String, Person> aktuellerWert : m.entrySet()) {     \n",
    "        int aktGeneration = findSinglePath(aktuellerWert.getValue());\n",
    "        \n",
    "        if (aktGeneration > maxGeneration)\n",
    "        {\n",
    "            maxGeneration = aktGeneration;\n",
    "        }\n",
    "    }    \n",
    "    \n",
    "    return maxGeneration;\n",
    "}"
   ]
  },
  {
   "cell_type": "code",
   "execution_count": 29,
   "metadata": {
    "deletable": false,
    "editable": false,
    "nbgrader": {
     "cell_type": "code",
     "checksum": "014a05863c0ddaff934a3b92177f9291",
     "grade": true,
     "grade_id": "cell-9bab23bc72b06e8a",
     "locked": true,
     "points": 4,
     "schema_version": 3,
     "solution": false,
     "task": false
    }
   },
   "outputs": [],
   "source": [
    "/* DO NOT ALTER OR DELETE THIS CELL! */\n",
    "assert findSinglePath(p1) == 2;"
   ]
  },
  {
   "cell_type": "markdown",
   "metadata": {
    "deletable": false,
    "editable": false,
    "nbgrader": {
     "cell_type": "markdown",
     "checksum": "36c26eeacfe3180bcb52337fd8689dc9",
     "grade": false,
     "grade_id": "cell-1e4c42d9c0100704",
     "locked": true,
     "schema_version": 3,
     "solution": false,
     "task": false
    }
   },
   "source": [
    "## Aufgabe 4\n",
    "\n",
    "* Wie oft kommen Personen mit einem bestimmten Vornamen (z.B.: `\"stefan\"`) über die diversen Eltern-Kind-Beziehungen und Generationen vor?\n",
    "* Komplettieren Sie die untenstehende Funktion `count`, um einen assoziiativen Array (Map) zu befüllen, welche für die eindeutigen Vornamen die Zahl dieser Vorkommnisse in `allPersons` führt.\n",
    "* Beachten Sie, dass die Vornamen numerische Zusätze (Suffizes) aufweisen (z.B.: `\"stefan3\"`), welche Sie bei der Zählung ignorieren sollen (`\"stefan3\"` zählt als Vorkommnis von `\"stefan\"`);\n",
    "* Beachten Sie dafür, dass die Baumstruktur (wenn komplett und korrekt aufgebaut) wie folgt aussieht:\n",
    "  * `(root)` steht für einen erdachten, gemeinsamen Wurzelnoten über die die \"Roots\", wie oben definiert.\n",
    "  * Der Zahlenwert vor jeder Zeile steht für die Pfadlänge vom gemeinsamen Wurzelknoten (`(root)`) zum jeweiligen Knoten.\n",
    "  * Ein und derselbe Name mit numerischem Zusatz kann mehrfach vorkommen (nicht nur als Eltern-, sondern auch als Kindteil), in Darstellung unterschiedlichster Eltern-Kind-Beziehungsarten;\n",
    "\n",
    "```\n",
    "0: (root)\n",
    "# ...\n",
    "1:   hannah18\n",
    "2:     fabian17\n",
    "3:       tobias16\n",
    "4:         matthias10\n",
    "5:           luca3\n",
    "6:             tobias8\n",
    "7:               oliver9\n",
    "6:             sofia3\n",
    "7:               daniel6\n",
    "8:                 rene12\n",
    "8:                 lena13\n",
    "7:               philipp12\n",
    "6:             hannah9\n",
    "6:             julia12\n",
    "6:             valentina6\n",
    "7:               leo20\n",
    "4:         anna18\n",
    "4:         valentin17\n",
    "# ...\n",
    "```"
   ]
  },
  {
   "cell_type": "code",
   "execution_count": 30,
   "metadata": {
    "deletable": false,
    "nbgrader": {
     "cell_type": "code",
     "checksum": "8218ff66e82c4247a5a58cc9686f1e9b",
     "grade": false,
     "grade_id": "cell-086b045b53e36979",
     "locked": false,
     "schema_version": 3,
     "solution": true,
     "task": false
    }
   },
   "outputs": [],
   "source": [
    "void count(Person p, Map<String, Integer> counts) {\n",
    "    \n",
    "    List<Person> rootList = findRoots(allPersons); \n",
    "    String vergleichsName = removeDigits(p.name);\n",
    "    counts.put(vergleichsName, 0);\n",
    "    \n",
    "     for(Person r : rootList) {\n",
    "         IsIncluded(vergleichsName, r, counts);\n",
    "     }\n",
    "}\n",
    "\n",
    "\n",
    "public static String removeDigits (String dgt) {\n",
    "     return dgt.replaceAll(\"\\\\d\",\"\");   \n",
    "}\n",
    "\n",
    "\n",
    "void IsIncluded(String name, Person p, Map <String, Integer> counts) {\n",
    "    if(name.equals(removeDigits(p.name))) { \n",
    "        counts.put(name, counts.get(name) + 1);\n",
    "    }\n",
    "    \n",
    "    for (Person child : p.children) {\n",
    "        IsIncluded(name, child, counts);\n",
    "    } \n",
    "}"
   ]
  },
  {
   "cell_type": "code",
   "execution_count": 31,
   "metadata": {
    "deletable": false,
    "editable": false,
    "nbgrader": {
     "cell_type": "code",
     "checksum": "5f44a80797ab81d4128394814633e84a",
     "grade": true,
     "grade_id": "cell-60229ef4a17e1d47",
     "locked": true,
     "points": 1,
     "schema_version": 3,
     "solution": false,
     "task": false
    }
   },
   "outputs": [],
   "source": [
    "/* DO NOT ALTER OR DELETE THIS CELL! */\n",
    "Map<String, Integer> m = new HashMap<String, Integer>();\n",
    "for (Person person : findRoots(allPersons)) {\n",
    "    count(person, m);\n",
    "}\n",
    "assert m.get(\"stefan\") == 128;\n",
    "assert m.get(\"leo\") == 129;\n"
   ]
  },
  {
   "cell_type": "markdown",
   "metadata": {},
   "source": [
    "<h1><span style=\"color:blue\">Tagebuch: </span> </h1>\n",
    "\n",
    "<b>Vorgehensweise:</b><br> \n",
    "Erstellen einer WhatsApp Gruppe und eines Teams Channels für die Besprechungen. <br>\n",
    "Besprechungen am 14.05. ,17.05. und 18.05. (Bis zum Ersten Meeting hat sich jedes Mitglied der Gruppe bereits die Aufgaben angesehen oder versucht zu lösen). <br> \n",
    "\n",
    "<b>Aufgabe 1: </b><br>\n",
    "<i>Schwierigkeiten:</i> \n",
    "* Wie iteriert man durch die HashMap? \n",
    "* Parameterrückgabe \n",
    "\n",
    "`Gelöst am: 14.05.`\n",
    "\n",
    "<b>Aufgabe 2:</b> <br>\n",
    "<i>Schwierigkeiten:</i> \n",
    "* Konzept finden\n",
    "* Children untereinander vergleichen \n",
    "\n",
    "`Gelöst am: 14.05.`\n",
    "    \n",
    "<b>Aufgabe 3:</b> <br>\n",
    "<i>Schwierigkeiten:</i> \n",
    " * Sprung in die nächste Generation automatisieren -> Rekursion einbauen \n",
    "\n",
    "`Gelöst am: 14.05.` \n",
    "    \n",
    "<b>Aufgabe 4:</b><br>\n",
    "<i>Schwierigkeiten:</i> \n",
    " * Strings von Zahlen bereinigen -> versuch mit \"replaceAll()\", hat ohne eigene Funktion nicht funktioniert, implementierung mit charAt und Character.isDigit() nicht so schlank\n",
    " * \"Alles in eines\" Code nicht gut machbar -> Aufteilen des Codes in drei Teile \n",
    " \n",
    "`Gelöst am: 17.05.`\n",
    "\n",
    "<b>Linkverzeichnis<b><br> \n",
    "\n",
    " *  `Methoden zur Bereinigung der Strings:` prashant_srivastava, geeksforgeeks.org, 2020, https://www.geeksforgeeks.org/different-ways-to-remove-all-the-digits-from-string-in-java/ (Zugriff am 17.05.)\n",
    "\n",
    "    "
   ]
  }
 ],
 "metadata": {
  "kernelspec": {
   "display_name": "Java",
   "language": "java",
   "name": "java"
  },
  "language_info": {
   "codemirror_mode": "java",
   "file_extension": ".jshell",
   "mimetype": "text/x-java-source",
   "name": "Java",
   "pygments_lexer": "java",
   "version": "11.0.8+10-post-Ubuntu-0ubuntu120.04"
  }
 },
 "nbformat": 4,
 "nbformat_minor": 4
}
