{
 "cells": [
  {
   "cell_type": "code",
   "execution_count": 1,
   "metadata": {
    "deletable": false,
    "editable": false,
    "nbgrader": {
     "cell_type": "code",
     "checksum": "d4f947b60660e55c82502940b852b213",
     "grade": false,
     "grade_id": "cell-0205e540e3927967",
     "locked": true,
     "schema_version": 3,
     "solution": false,
     "task": false
    }
   },
   "outputs": [],
   "source": [
    "import java.util.stream.*; "
   ]
  },
  {
   "cell_type": "markdown",
   "metadata": {
    "deletable": false,
    "editable": false,
    "nbgrader": {
     "cell_type": "markdown",
     "checksum": "bf63aeeb7fca3eb52b3f56f21d9bfe49",
     "grade": false,
     "grade_id": "cell-c9728bf973813436",
     "locked": true,
     "schema_version": 3,
     "solution": false,
     "task": false
    }
   },
   "source": [
    "## Assignment 4 (Group)\n",
    "\n",
    "Für diese Aufgabe müssen Sie zuerst die Datei `students.txt` [1] aus MyLearn in Ihrer Jupyter-Umgebung ablegen; diese muss im gleichen Verzeichnis wie dieses Notebook untergebracht werden. Der folgende Codeblock liest die Daten in eine dynamische Datenstruktur ein:\n",
    "\n",
    "\n",
    "[1] Sh. https://matrikel.adbk.de/matrikel"
   ]
  },
  {
   "cell_type": "code",
   "execution_count": 2,
   "metadata": {
    "deletable": false,
    "editable": false,
    "nbgrader": {
     "cell_type": "code",
     "checksum": "5ca7e7e6cdf4acbd2cfcc10bcfd22ae1",
     "grade": false,
     "grade_id": "cell-9c503a4ea03abb4a",
     "locked": true,
     "schema_version": 3,
     "solution": false,
     "task": false
    }
   },
   "outputs": [],
   "source": [
    "BufferedReader reader = new BufferedReader(new FileReader(\"students.txt\"));\n",
    "String line = reader.readLine();\n",
    "String[] arr;\n",
    "int counter = 0;\n",
    "\n",
    "List<String[]> data = new ArrayList<String[]>();\n",
    "\n",
    "while (line != null) {\n",
    "    data.add(line.split(\";\"));\n",
    "    line = reader.readLine();\n",
    "}\n",
    "reader.close();"
   ]
  },
  {
   "cell_type": "markdown",
   "metadata": {
    "deletable": false,
    "editable": false,
    "nbgrader": {
     "cell_type": "markdown",
     "checksum": "9bd07242d4004d52205bd12953ea5cfb",
     "grade": false,
     "grade_id": "cell-67996056b5f82016",
     "locked": true,
     "schema_version": 3,
     "solution": false,
     "task": false
    }
   },
   "source": [
    "Mit den folgenden Zeilen \n",
    "wird eine Klasse `Student` bereitgestellt. Ein `Student` wird durch einen Namen, das Immatrikulationsjahr, eine fortlaufende Immatrikulationszahl und das Studienfeld beschrieben."
   ]
  },
  {
   "cell_type": "code",
   "execution_count": 3,
   "metadata": {
    "deletable": false,
    "editable": false,
    "nbgrader": {
     "cell_type": "code",
     "checksum": "2c955a8e4b3757cf1e11e6d6046f6629",
     "grade": false,
     "grade_id": "cell-1b6a36fc04d6813f",
     "locked": true,
     "schema_version": 3,
     "solution": false,
     "task": false
    }
   },
   "outputs": [],
   "source": [
    "class Student {\n",
    "    int registrationYear;\n",
    "    String serial; \n",
    "    String name;\n",
    "    String field;\n",
    "    Student(String rY, String s, String n, String f) {\n",
    "        this.registrationYear = Integer.parseInt(rY);\n",
    "        this.serial = s;\n",
    "        this.name = n;\n",
    "        this.field = f;\n",
    "    }\n",
    "\n",
    "    @Override\n",
    "    public String toString() {\n",
    "        StringBuffer sb = new StringBuffer();\n",
    "        sb.append(this.registrationYear);\n",
    "        sb.append(\"|\");\n",
    "        sb.append(this.serial);\n",
    "        sb.append(\"|\");\n",
    "        sb.append(this.name);\n",
    "        sb.append(\"|\");\n",
    "        sb.append(this.field);\n",
    "        return sb.toString();\n",
    "    }\n",
    "}"
   ]
  },
  {
   "cell_type": "markdown",
   "metadata": {
    "deletable": false,
    "editable": false,
    "nbgrader": {
     "cell_type": "markdown",
     "checksum": "e4c6be65e567871a6f7e7d96ce9b8d24",
     "grade": false,
     "grade_id": "cell-558f5359d09aa4f0",
     "locked": true,
     "schema_version": 3,
     "solution": false,
     "task": false
    }
   },
   "source": [
    "## Aufgabe 1\n",
    "\n",
    "Implementieren Sie die Methode `id`, welche einen eindeutigen Bezeichner für Student*innen darstellt. Dieser Bezeichner soll sich aus dem Einstiegsjahr und der Matrikelnummer zusammensetzen.\n",
    "\n",
    "Vervollständigen Sie die Funktion `id` auf Basis eines `Student`. Der return-Wert soll die Vereinigung aus `year` + `serial` sein, beschränkt auf positive Integer."
   ]
  },
  {
   "cell_type": "code",
   "execution_count": 4,
   "metadata": {
    "deletable": false,
    "nbgrader": {
     "cell_type": "code",
     "checksum": "9f7fdaa56052782f7bc0d21e43bb3722",
     "grade": false,
     "grade_id": "cell-4785d59176b7b418",
     "locked": false,
     "schema_version": 3,
     "solution": true,
     "task": false
    }
   },
   "outputs": [],
   "source": [
    "int id(Student s) {\n",
    "    String year = String.valueOf(s.registrationYear);\n",
    "    String yearSerial = year + s.serial;\n",
    "    \n",
    "    return  Integer.valueOf(yearSerial);\n",
    "}\n",
    "\n",
    "//https://www.javatpoint.com/java-string-to-int\n",
    "//https://www.freecodecamp.org/news/java-string-to-int-how-to-convert-a-string-to-an-integer/"
   ]
  },
  {
   "cell_type": "code",
   "execution_count": 5,
   "metadata": {
    "deletable": false,
    "editable": false,
    "nbgrader": {
     "cell_type": "code",
     "checksum": "4503f9b2833adfbe0fd6790dc0a94209",
     "grade": true,
     "grade_id": "cell-e1d9e01c07d3b090",
     "locked": true,
     "points": 1,
     "schema_version": 3,
     "solution": false,
     "task": false
    }
   },
   "outputs": [],
   "source": [
    "\n",
    "assert id(new Student(\"1932\", \"00011\", \"Max Mustermann\", \"Malerei\")) == 193200011 : \"A.1.1\";"
   ]
  },
  {
   "cell_type": "markdown",
   "metadata": {
    "deletable": false,
    "editable": false,
    "nbgrader": {
     "cell_type": "markdown",
     "checksum": "c2bc11fa52a5a35c9a5d3c234b2af906",
     "grade": false,
     "grade_id": "cell-994f13a6c6100885",
     "locked": true,
     "schema_version": 3,
     "solution": false,
     "task": false
    }
   },
   "source": [
    "## Aufgabe 2a\n",
    "\n",
    "Vervollständigen Sie die Funktion `N()`. Die Aufgabe von `N()` ist die Ermittlung der Größe einer Hashtabelle auf Basis der folgenden \"Daumenregeln\": \n",
    "\n",
    "- Basis der Berechnung ist die zu erwartende maximale Zahl an Schlüsseln in der Hashtabelle: `expected`;\n",
    "- Die Größe soll um einen Faktor zwischen 1,3 (Minimum) und 1,4 (Maximum) größer sein als diese Basis.\n",
    "- Die Größe soll eine Primzahl sein. Nutzen Sie `isPrime()` für die Implementierung von `N()`."
   ]
  },
  {
   "cell_type": "code",
   "execution_count": 6,
   "metadata": {
    "deletable": false,
    "editable": false,
    "nbgrader": {
     "cell_type": "code",
     "checksum": "760b5286e3f465716c91ce7df4319078",
     "grade": false,
     "grade_id": "cell-5ff147c8d39ef4c0",
     "locked": true,
     "schema_version": 3,
     "solution": false,
     "task": false
    }
   },
   "outputs": [],
   "source": [
    "boolean isPrime(int n) {\n",
    "    int i;\n",
    "    for(i=2; i<=Math.sqrt(n); i++){\n",
    "        if(n % i == 0){\n",
    "           return false;\n",
    "        }\n",
    "    }\n",
    "    return true;\n",
    "}"
   ]
  },
  {
   "cell_type": "code",
   "execution_count": 7,
   "metadata": {
    "deletable": false,
    "nbgrader": {
     "cell_type": "code",
     "checksum": "38ccb0d10537b53f814d87f0f3843c9b",
     "grade": false,
     "grade_id": "cell-5ecca090b90a7b92",
     "locked": false,
     "schema_version": 3,
     "solution": true,
     "task": false
    }
   },
   "outputs": [],
   "source": [
    "int N(int expected) {\n",
    "    double exp = Double.valueOf(expected);\n",
    "    int minimum = (int)(Math.ceil(exp * 1.3));\n",
    "    int maximum = (int)(Math.floor(exp * 1.4));\n",
    "    for (int i = minimum; i <= maximum; i++) {\n",
    "        if (isPrime(i)) {\n",
    "            return i;\n",
    "        }\n",
    "    } \n",
    "    return 0;\n",
    "}\n",
    "\n",
    "//https://www.delftstack.com/de/howto/java/java-round-up/\n",
    "//https://www.tutorialspoint.com/java/lang/math_ceil.htm"
   ]
  },
  {
   "cell_type": "code",
   "execution_count": 8,
   "metadata": {
    "deletable": false,
    "editable": false,
    "nbgrader": {
     "cell_type": "code",
     "checksum": "e822c13523003aa149a036f6b7048a63",
     "grade": true,
     "grade_id": "cell-e55613da15b18d1b",
     "locked": true,
     "points": 2,
     "schema_version": 3,
     "solution": false,
     "task": false
    }
   },
   "outputs": [],
   "source": [
    "/* DO NOT ALTER OR DELETE THIS CELL! */\n",
    "var result = N(100);\n",
    "assert result == 131 || result == 137 || result == 139 : \"A.2a.1\";\n"
   ]
  },
  {
   "cell_type": "markdown",
   "metadata": {
    "deletable": false,
    "editable": false,
    "nbgrader": {
     "cell_type": "markdown",
     "checksum": "accada834e965d61853a704036c76aa5",
     "grade": false,
     "grade_id": "cell-8f509faf08a75220",
     "locked": true,
     "schema_version": 3,
     "solution": false,
     "task": false
    }
   },
   "source": [
    "## Aufgabe 2b\n",
    "\n",
    "Vervollständigen Sie die Funktion `add`. Die Aufgabe von `add` ist auf Basis der `id()` einen `Student` einer Hashtabelle hinzuzufügen. Die Hashtabelle soll Verkettung verwenden, um Kollisionen handzuhaben.\n",
    "\n",
    "- Die Hashtabelle ist als ein Feld (Array) von dynamischen Sammlungen von `Student`-Objekten implementiert.\n",
    "- Die Größe der Hashtabelle soll durch die Anwendung der Funktion `N()` bestimmt werden.\n",
    "- Nutzen Sie dafür die Funktion `id()`, um einen den Hashcode zu erhalten.\n",
    "- Berechnen Sie die Position im Array auf Basis dieses Hashcodes (folgen Sie dazu den Hinweisen im Lehrbuch in Kapitel 15)."
   ]
  },
  {
   "cell_type": "code",
   "execution_count": 9,
   "metadata": {
    "deletable": false,
    "nbgrader": {
     "cell_type": "code",
     "checksum": "4ab8c7654f8de67243511eb2fb8bb558",
     "grade": false,
     "grade_id": "cell-e3f90e02570c7b00",
     "locked": false,
     "schema_version": 3,
     "solution": true,
     "task": false
    }
   },
   "outputs": [],
   "source": [
    "void add(LinkedList<Student>[] book, Student s) {\n",
    "    int position = (id(s) & 0x7ffffff) % book.length;\n",
    "        \n",
    "    if(book[position] == null) {\n",
    "        book[position] = new LinkedList<Student>();\n",
    "    }\n",
    "    \n",
    "    book[position].addLast(s);\n",
    "}\n",
    "\n",
    "Student example = new Student(\"1820\", \"00569\", \"Franz Fidel Herz\", \"Malerei\");"
   ]
  },
  {
   "cell_type": "code",
   "execution_count": 10,
   "metadata": {
    "deletable": false,
    "editable": false,
    "nbgrader": {
     "cell_type": "code",
     "checksum": "970fe70120f94c2665dcd835b729343e",
     "grade": true,
     "grade_id": "cell-140d36b06e67d449",
     "locked": true,
     "points": 2,
     "schema_version": 3,
     "solution": false,
     "task": false
    }
   },
   "outputs": [],
   "source": [
    "/* DO NOT ALTER OR DELETE THIS CELL! */\n",
    "LinkedList<Student>[] test = new LinkedList[N(100)];\n",
    "add(test, example);\n",
    "int idx = (id(example) & 0x7ffffff) % test.length;\n",
    "assert test[idx].contains(example) : \"A.2b.1\" ;"
   ]
  },
  {
   "cell_type": "code",
   "execution_count": 22,
   "metadata": {
    "deletable": false,
    "nbgrader": {
     "cell_type": "code",
     "checksum": "cf124d1318f55944e78cee55c18fbdfd",
     "grade": false,
     "grade_id": "cell-56393ba410f65ce2",
     "locked": false,
     "schema_version": 3,
     "solution": true,
     "task": false
    }
   },
   "outputs": [
    {
     "name": "stdout",
     "output_type": "stream",
     "text": [
      "131\n",
      "test\n",
      "1\n"
     ]
    }
   ],
   "source": [
    "// YOUR CODE\n",
    "\n",
    "System.out.println(test.length);\n",
    "\n",
    "if (test[(id(example)& 0x7ffffff) % test.length].contains(example)) {\n",
    "   System.out.println(\"test\"); \n",
    "}\n",
    "\n",
    "LinkedList<Student>[] book = test;\n",
    "\n",
    "System.out.println(book[(id(example)& 0x7ffffff) % test.length].size());"
   ]
  },
  {
   "cell_type": "code",
   "execution_count": 12,
   "metadata": {
    "deletable": false,
    "editable": false,
    "nbgrader": {
     "cell_type": "code",
     "checksum": "297b4d857808aea68c9ec6f8d97fe25c",
     "grade": true,
     "grade_id": "cell-3f9aca8cf31a3cbe",
     "locked": true,
     "points": 1,
     "schema_version": 3,
     "solution": false,
     "task": false
    }
   },
   "outputs": [],
   "source": [
    "/* DO NOT ALTER OR DELETE THIS CELL! */\n",
    "int idx = (id(new Student(\"1820\", \"00569\", \"Franz Fidel Herz\", \"Malerei\")) & 0x7ffffff) % book.length;\n",
    "assert 0 < book[idx].size() && book[idx].size() <= 2 : \"A.2b.2\";"
   ]
  },
  {
   "cell_type": "markdown",
   "metadata": {
    "deletable": false,
    "editable": false,
    "nbgrader": {
     "cell_type": "markdown",
     "checksum": "3fbaee3aa841c6d27038721b2bc00429",
     "grade": false,
     "grade_id": "cell-1ca26ce683f3ac18",
     "locked": true,
     "schema_version": 3,
     "solution": false,
     "task": false
    }
   },
   "source": [
    "## Aufgabe 2c\n",
    "\n",
    "Vervollständigen Sie die Funktion `get`. \n",
    "- Der return-Wert ist der gesuchte `Student`.\n",
    "- Falls der gesuchte Student nicht in der übergebenen Hashtabelle zu finden ist, wird `null` zurückgegeben."
   ]
  },
  {
   "cell_type": "code",
   "execution_count": 23,
   "metadata": {
    "deletable": false,
    "nbgrader": {
     "cell_type": "code",
     "checksum": "7f93314763636bf41493444b9c5454bd",
     "grade": false,
     "grade_id": "cell-667554c40f8a0cb3",
     "locked": false,
     "schema_version": 3,
     "solution": true,
     "task": false
    }
   },
   "outputs": [
    {
     "name": "stdout",
     "output_type": "stream",
     "text": [
      "true\n"
     ]
    }
   ],
   "source": [
    "Student get(LinkedList<Student>[] book, int studentId) {\n",
    "    LinkedList<Student> list = book[(studentId & 0x7ffffff) % book.length];\n",
    "    for (Student s : list) {\n",
    "        if (id(s) == studentId) {\n",
    "            return s;\n",
    "        }\n",
    "    } \n",
    "    \n",
    "    return null;\n",
    "}\n",
    "\n",
    "System.out.println(get(book, 182000569).name.equals(\"Franz Fidel Herz\"));\n"
   ]
  },
  {
   "cell_type": "code",
   "execution_count": 14,
   "metadata": {
    "deletable": false,
    "editable": false,
    "nbgrader": {
     "cell_type": "code",
     "checksum": "312b75e7e1ac5183f78e9157205b7965",
     "grade": true,
     "grade_id": "cell-d190c4770d1f5db9",
     "locked": true,
     "points": 2,
     "schema_version": 3,
     "solution": false,
     "task": false
    }
   },
   "outputs": [],
   "source": [
    "/* DO NOT ALTER OR DELETE THIS CELL */\n",
    "\n",
    "assert get(book, 182000569).name.equals(\"Franz Fidel Herz\") : \"A.2c.1\" ;\n"
   ]
  },
  {
   "cell_type": "markdown",
   "metadata": {
    "deletable": false,
    "editable": false,
    "nbgrader": {
     "cell_type": "markdown",
     "checksum": "6901c9e355ec48cb97bef6bc8cb3d10c",
     "grade": false,
     "grade_id": "cell-ba416ae26dc0e075",
     "locked": true,
     "schema_version": 3,
     "solution": false,
     "task": false
    }
   },
   "source": [
    "## Aufgabe 3a\n",
    "\n",
    "Vervollständigen Sie die Funktion `summary`. Die Funktion soll eine Zusammenfassung der in der Hashtabelle gespeicherten Werte, aggregiert über die Buckets und deren Belegung, liefern. Die erwartete Ausgabeform (`stdout`) ist wie folgt (als Beispiel, die konkreten Werte werden abweichen):\n",
    "\n",
    "```\n",
    "2 entries in table, 100 buckets\n",
    "number of buckets with 0 entries: 0\n",
    "number of buckets with 1 entries: 2\n",
    "number of buckets with 2 entries: 0\n",
    "number of buckets with 3 entries: 0\n",
    "number of buckets with 4 entries: 0\n",
    "number of buckets with 5 entries: 0\n",
    "number of buckets with 6 entries: 0\n",
    "number of buckets with 7 entries: 0\n",
    "number of buckets with 8 entries: 0\n",
    "number of buckets with 9 entries: 0\n",
    "number of buckets with 10 or more entries: 0\n",
    "```"
   ]
  },
  {
   "cell_type": "code",
   "execution_count": 15,
   "metadata": {
    "deletable": false,
    "nbgrader": {
     "cell_type": "code",
     "checksum": "6eac4942c988b40e1e168a3a573d38ef",
     "grade": false,
     "grade_id": "cell-68133713831798cb",
     "locked": false,
     "schema_version": 3,
     "solution": true,
     "task": false
    }
   },
   "outputs": [],
   "source": [
    "void summary(LinkedList<Student>[] book) {\n",
    "    int sum = 0;\n",
    "    int[] amountBucket = new int[11];\n",
    "    \n",
    "    for (int i = 0; i < book.length; i++) {\n",
    "        LinkedList<Student> list = book[i];\n",
    "        int amount = 0;\n",
    "        \n",
    "        if (list != null) {\n",
    "            sum = sum + list.size();\n",
    "            amount = list.size();\n",
    "        }\n",
    "        \n",
    "        if (amount > 10) {\n",
    "            amount = 10;\n",
    "        }\n",
    "        amountBucket[amount]++;\n",
    "    }\n",
    "    \n",
    "    System.out.println(sum + \" entries in table, \" + book.length + \" buckets\");\n",
    "    \n",
    "    System.out.println(\"number of buckets with 0 entries: \" + amountBucket[0]);\n",
    "    System.out.println(\"number of buckets with 1 entries: \" + amountBucket[1]);\n",
    "    System.out.println(\"number of buckets with 2 entries: \" + amountBucket[2]);\n",
    "    System.out.println(\"number of buckets with 3 entries: \" + amountBucket[3]);\n",
    "    System.out.println(\"number of buckets with 4 entries: \" + amountBucket[4]);\n",
    "    System.out.println(\"number of buckets with 5 entries: \" + amountBucket[5]);\n",
    "    System.out.println(\"number of buckets with 6 entries: \" + amountBucket[6]);\n",
    "    System.out.println(\"number of buckets with 7 entries: \" + amountBucket[7]);\n",
    "    System.out.println(\"number of buckets with 8 entries: \" + amountBucket[8]);\n",
    "    System.out.println(\"number of buckets with 9 entries: \" + amountBucket[9]);\n",
    "    System.out.println(\"number of buckets with 10 or more entries: \" + amountBucket[10]);\n",
    "}\n"
   ]
  },
  {
   "cell_type": "code",
   "execution_count": 16,
   "metadata": {
    "deletable": false,
    "editable": false,
    "nbgrader": {
     "cell_type": "code",
     "checksum": "c6d1fefc56b17b524b35d3de1d2b8489",
     "grade": true,
     "grade_id": "cell-388c652887cf8063",
     "locked": true,
     "points": 1,
     "schema_version": 3,
     "solution": false,
     "task": false
    }
   },
   "outputs": [
    {
     "name": "stdout",
     "output_type": "stream",
     "text": [
      "1 entries in table, 131 buckets\n",
      "number of buckets with 0 entries: 130\n",
      "number of buckets with 1 entries: 1\n",
      "number of buckets with 2 entries: 0\n",
      "number of buckets with 3 entries: 0\n",
      "number of buckets with 4 entries: 0\n",
      "number of buckets with 5 entries: 0\n",
      "number of buckets with 6 entries: 0\n",
      "number of buckets with 7 entries: 0\n",
      "number of buckets with 8 entries: 0\n",
      "number of buckets with 9 entries: 0\n",
      "number of buckets with 10 or more entries: 0\n"
     ]
    }
   ],
   "source": [
    "summary(book);"
   ]
  },
  {
   "cell_type": "markdown",
   "metadata": {
    "deletable": false,
    "editable": false,
    "nbgrader": {
     "cell_type": "markdown",
     "checksum": "1673adc12e90867c3b93123d2252798a",
     "grade": false,
     "grade_id": "cell-50ec15e7ade14811",
     "locked": true,
     "schema_version": 3,
     "solution": false,
     "task": false
    }
   },
   "source": [
    "## Aufgabe 3b\n",
    "\n",
    "Erläutern Sie die Auswertung des Aufrufs von `summary(book)` in eigenen Worten in Hinblick auf folgende Aspekte einer Hashtabelle:\n",
    "\n",
    "* Kollisionen\n",
    "* Verkettung\n",
    "* Entartung"
   ]
  },
  {
   "cell_type": "markdown",
   "metadata": {
    "deletable": false,
    "nbgrader": {
     "cell_type": "markdown",
     "checksum": "8ccf28cde8519874911f3ea6ff17fedc",
     "grade": true,
     "grade_id": "cell-9959efc06ec3cc37",
     "locked": false,
     "points": 1,
     "schema_version": 3,
     "solution": true,
     "task": false
    }
   },
   "source": [
    "YOUR ANSWER HERE"
   ]
  },
  {
   "cell_type": "markdown",
   "metadata": {},
   "source": [
    "Bei der Kollision wird 2 Elementen die gleiche Position im Array zugewiesen, wodurch man zu einer Kollisionsbehandlung gezwungen ist, die üblicherweise mit einer Verkettung oder Sondierung durchgeführt wird.\n",
    "Bei unserem Beispiel ist eine Verkettung erfolgt.\n",
    "Im Aufruf von der Methode summary() wird das Array durchgegangen, welches LinkedList<Student> Elemente enthält. Diese LinkedLists dienen der Verkettung um Kollisionen handeln zu können.\n",
    "Wenn man nun wissen will, wieviele Elemente insgesamt in der Hashtabelle vorhanden sind, darf man das Arrary nicht einfach durchgehen, sondern man muss an jeder Position die Verkettung durchgehen, was zu einem erhöhten Zugriffsaufwand führt. Das versteht man unter Entartung, da durch die Verkettung der sonst konstante Zugriff auf das Array verloren geht."
   ]
  },
  {
   "cell_type": "code",
   "execution_count": null,
   "metadata": {},
   "outputs": [],
   "source": []
  },
  {
   "cell_type": "code",
   "execution_count": null,
   "metadata": {},
   "outputs": [],
   "source": []
  }
 ],
 "metadata": {
  "kernelspec": {
   "display_name": "Java",
   "language": "java",
   "name": "java"
  },
  "language_info": {
   "codemirror_mode": "java",
   "file_extension": ".jshell",
   "mimetype": "text/x-java-source",
   "name": "Java",
   "pygments_lexer": "java",
   "version": "11.0.8+10-post-Ubuntu-0ubuntu120.04"
  }
 },
 "nbformat": 4,
 "nbformat_minor": 4
}
