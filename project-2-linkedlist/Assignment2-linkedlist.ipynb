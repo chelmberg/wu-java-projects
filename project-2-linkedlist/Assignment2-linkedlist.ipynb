{
 "cells": [
  {
   "cell_type": "markdown",
   "metadata": {
    "deletable": false,
    "editable": false,
    "nbgrader": {
     "cell_type": "markdown",
     "checksum": "db68e5946b0ef81e95a3956fad92dc27",
     "grade": false,
     "grade_id": "cell-0fb1e55c9b53dfa5",
     "locked": true,
     "schema_version": 3,
     "solution": false,
     "task": false
    }
   },
   "source": [
    "# Onlineaktivität 2: Datenstrukturen (Verkettete Listen)\n",
    "(Gruppenaufgabe)\n",
    "\n",
    "Im folgenden geben wir eine einfache Implementierung einer (einfach) verketteten Liste (engl.: \"Linked List\") vor. \n",
    "\n",
    "* Eine verkettete Liste besteht aus einzelnen Listenelementen `ListItem`. Ein `ListItem` wiederum speichert einen Wert `value`, und eine Referenz `next` auf das nächste `ListItem`.\n",
    "* Die `LinkedList` besitzt nur einen Zeiger auf das erste Element der Liste (`head`); auf die weiteren Elemente wird per `next` zugegriffen."
   ]
  },
  {
   "cell_type": "code",
   "execution_count": 1,
   "metadata": {
    "deletable": false,
    "editable": false,
    "nbgrader": {
     "cell_type": "code",
     "checksum": "71458673f311f5c00b5d847de853b22c",
     "grade": false,
     "grade_id": "cell-79640f61b5865b37",
     "locked": true,
     "schema_version": 3,
     "solution": false,
     "task": false
    }
   },
   "outputs": [
    {
     "name": "stdout",
     "output_type": "stream",
     "text": [
      "head\n",
      "toes\n",
      "null\n"
     ]
    }
   ],
   "source": [
    "class ListItem {\n",
    "    \n",
    "    String value;\n",
    "    ListItem next;\n",
    "    \n",
    "    ListItem(String value){\n",
    "        this.value = value;\n",
    "    }\n",
    "}\n",
    "\n",
    "class LinkedList {\n",
    "    ListItem head;\n",
    "}\n",
    "\n",
    "/* Create a first list and its first item */\n",
    "LinkedList aList = new LinkedList();\n",
    "aList.head = new ListItem(\"head\");\n",
    "\n",
    "/* Create another item ... */\n",
    "ListItem shoulderItem = new ListItem(\"shoulders\");\n",
    "/* and append it to the list */\n",
    "aList.head.next = shoulderItem;\n",
    "\n",
    "/* Adding new items directly to the list end (via next.next and next.next.next) */\n",
    "aList.head.next.next = new ListItem(\"knees\");\n",
    "aList.head.next.next.next = new ListItem(\"toes\");\n",
    "\n",
    "/* Each element in the list is only accessible by first referencing the one before */\n",
    "\n",
    "System.out.println(aList.head.value);\n",
    "System.out.println(aList.head.next.next.next.value);\n",
    "System.out.println(aList.head.next.next.next.next);"
   ]
  },
  {
   "cell_type": "markdown",
   "metadata": {
    "deletable": false,
    "editable": false,
    "nbgrader": {
     "cell_type": "markdown",
     "checksum": "a8684f334656292dfeef3205d261c396",
     "grade": false,
     "grade_id": "cell-1939927644b88bf8",
     "locked": true,
     "schema_version": 3,
     "solution": false,
     "task": false
    }
   },
   "source": [
    "## Aufgabe 1\n",
    "\n",
    "Gegeben sind die beispielhaften Listenelemente (`value, next.value`) einer `LinkedList` als Tupel von Tupeln. Jedes Listenelement ist modelliert aus dem Wert (`value`), das vom jeweiligen Listenelement gehalten wird, und dem Wert des Folgeelements (`next.value`):\n",
    "\n",
    "```(\"d\", null), (\"a\", \"d\"), (\"b\", \"c\"), (\"h\", \"a\"), (\"f\", \"h\"), (\"c\", \"f\")```\n",
    "\n",
    "Beantworten Sie die folgenden Fragen:\n",
    "* Welches Element ist das Erste in der Liste? Warum?\n",
    "* Welches ist das Letzte? Warum?\n",
    "* Ausgehend vom ersten Element `head`, was wäre die Ausgabe von `head.next.next.next.next.value`?"
   ]
  },
  {
   "cell_type": "markdown",
   "metadata": {
    "deletable": false,
    "nbgrader": {
     "cell_type": "markdown",
     "checksum": "3d531c037991e599e10e419c23af3fc6",
     "grade": true,
     "grade_id": "cell-d5ae75562a89a0fb",
     "locked": false,
     "points": 2,
     "schema_version": 3,
     "solution": true,
     "task": false
    }
   },
   "source": [
    "YOUR ANSWER HERE\n",
    "\n",
    "1.) Das erste Element ist das Element mit den Attributen („b“, „c“), da es kein anderes Element mit einem next.value Wert von „b“ gibt. Es „zeigt“ also kein anderes Element auf dieses Element, warum es das Erste der Liste sein muss.\n",
    "\n",
    "2.) Das letzte Element ist das Element mit den Attributen („d“, null), da der next.value Wert null ist. Dieses Element \"zeigt\" also auf kein darauffolgendes Element, warum es das Letzte der Liste sein muss.\n",
    "\n",
    "3.) Die Ausgabe wäre: a. Das Element head.next.next.next.next hat nämlich die Attribute („a“, „d“), wobei „a“ den value-Wert darstellt, der ausgegeben wird, und „d“ den next.value Wert.\n",
    "\n",
    "\n",
    "(Die gesamte LinkedList wäre: („b“, „c“) („c“, „f“) („f“, „h“) („h“, „a“) („a“, „d“) („d“, null))"
   ]
  },
  {
   "cell_type": "markdown",
   "metadata": {
    "deletable": false,
    "editable": false,
    "nbgrader": {
     "cell_type": "markdown",
     "checksum": "b9e3f17246ed7a4b9a629096fa8ba0e6",
     "grade": false,
     "grade_id": "cell-ea24958493ec2e94",
     "locked": true,
     "schema_version": 3,
     "solution": false,
     "task": false
    }
   },
   "source": [
    "## Aufgabe 2\n",
    "\n",
    "* Gegeben sind `n` und `m` als zwei Listenelemente.\n",
    "* `n` ist bereits als Listenelement in der Liste enthalten, `m` (noch) nicht.\n",
    "* Erklären Sie, wie sich die folgenden Zuweisungen auf eine `LinkedList` auswirken:\n",
    "  1. `n.next = n.next.next`\n",
    "  2. `m.next = n.next`  \n",
    "     `n.next = m`\n",
    "  3. `n.next = m`  \n",
    "     `m.next = n.next`"
   ]
  },
  {
   "cell_type": "markdown",
   "metadata": {
    "deletable": false,
    "nbgrader": {
     "cell_type": "markdown",
     "checksum": "2cfb286506ca26ae4620903f5ead566a",
     "grade": true,
     "grade_id": "cell-3d57536b0fb9f68d",
     "locked": false,
     "points": 2,
     "schema_version": 3,
     "solution": true,
     "task": false
    }
   },
   "source": [
    "YOUR ANSWER HERE\n",
    "\n",
    "1.) Das Element, das ursprünglich als n.next gespeichert war, wird mit dem Element n.next.next überschrieben. Dadurch wird das Element n.next aus der Liste entfernt und das Element n zeigt nun auf das Element, das ursprünglich als n.next.next in der Liste gespeichert war. Vereinfacht gesagt: n.next wird aus der Liste entfernt.\n",
    "\n",
    "2.) Durch die zweite Zuweisung wird m nach n eingefügt, das durch die erste Zuweisung auf das Element verweist, das ursprünglich als n.next gespeichert war. Es wird also m zwischen n und n.next eingefügt.\n",
    "\n",
    "3.) Durch die erste Zuweisung wird nach dem Element n das Element m in die Liste eingefügt, das durch die zweite Zuweisung auf sich selbst zeigt. Würde man diese Liste also als String ausgeben wollen, würde das zu einer Art Endlosschleife führen, da nach n.value immer wieder m.value ausgegeben werden würde."
   ]
  },
  {
   "cell_type": "markdown",
   "metadata": {
    "deletable": false,
    "editable": false,
    "nbgrader": {
     "cell_type": "markdown",
     "checksum": "07302200bcc73b1f558b3b498cc04894",
     "grade": false,
     "grade_id": "cell-408e2a8db42b0bdd",
     "locked": true,
     "schema_version": 3,
     "solution": false,
     "task": false
    }
   },
   "source": [
    "## Aufgabe 3\n",
    "\n",
    "* Gegeben ist die eingangs vorgestellte Implementierung von `LinkedList` und `ListItem`. \n",
    "* Erweitern Sie die Klasse `LinkedList` um die folgenden beiden Funktionen:\n",
    "  * `deleteAt(pos)`: Diese Methode löscht das Element an der Position `pos` aus der Liste löschen (beginnend bei 0).\n",
    "  * `reverse()`: Diese Methode gibt alle Werte der Liste als neue Liste (`LinkedList`) aus, aber in umgekehrter Reihenfolge.\n",
    "  * `contains(String el)`: Diese Methode gibt `true` zurück, wenn das Stringelement `el` in der Liste enthalten ist; `false` andernfalls.\n"
   ]
  },
  {
   "cell_type": "markdown",
   "metadata": {
    "deletable": false,
    "editable": false,
    "nbgrader": {
     "cell_type": "markdown",
     "checksum": "5b3864c6617816fe74c6a9dc4e55d959",
     "grade": false,
     "grade_id": "cell-127fb10acc42d16e",
     "locked": true,
     "schema_version": 3,
     "solution": false,
     "task": false
    }
   },
   "source": [
    "Drei Methoden für `LinkedList` sind bereits bereitgestellt:\n",
    "* `append(v)`: Fügt ein neues Element ans Ende der Liste hinzu.\n",
    "* `toString()`: Gibt die Werte aller Listenelemente aus. \n",
    "* `size()`: Gibt die Länge der Liste aus.\n",
    "\n",
    "Versuchen Sie diese zu verstehen; sie können Ihnen bei der Aufgabe helfen!"
   ]
  },
  {
   "cell_type": "code",
   "execution_count": 2,
   "metadata": {
    "deletable": false,
    "nbgrader": {
     "cell_type": "code",
     "checksum": "7985e519a46389f076936dd7ab36586d",
     "grade": false,
     "grade_id": "cell-268439e507cc7bec",
     "locked": false,
     "schema_version": 3,
     "solution": true,
     "task": false
    }
   },
   "outputs": [],
   "source": [
    "class LinkedList {\n",
    "    \n",
    "    ListItem head;\n",
    "        \n",
    "    public void append(String v) {\n",
    "        ListItem newItem = new ListItem(v);\n",
    "        ListItem i = this.head;\n",
    "        \n",
    "        if (i == null) {\n",
    "            this.head = newItem;\n",
    "        } else {\n",
    "            while (i.next != null) {\n",
    "                i = i.next;\n",
    "            }\n",
    "            i.next = newItem;\n",
    "        }\n",
    "    }\n",
    "    \n",
    "    public String toString() {\n",
    "        ListItem i = this.head;\n",
    "        StringBuilder sb = new StringBuilder();\n",
    "        if (i != null) {\n",
    "            while (i.next != null){\n",
    "                sb.append(i.value);\n",
    "                sb.append(\" \");\n",
    "                i = i.next;\n",
    "            }\n",
    "            sb.append(i.value);\n",
    "        }\n",
    "        return sb.toString();\n",
    "    }\n",
    "    \n",
    "    int size(){\n",
    "        int length = 0;\n",
    "        ListItem i = this.head;\n",
    "        while (i != null){\n",
    "            length++;\n",
    "            i = i.next;\n",
    "        }\n",
    "        return length;\n",
    "    }\n",
    "    \n",
    "    boolean contains(String el) {\n",
    "        // YOUR CODE HERE\n",
    "        \n",
    "        ListItem i = this.head;\n",
    "        while (!i.value.equals(el) && i.next != null) {\n",
    "            i = i.next;\n",
    "        }\n",
    "        if (i.value.equals(el)) {\n",
    "            return true;\n",
    "        }\n",
    "        return false;\n",
    "    } \n",
    "\n",
    "    void deleteAt(int p){\n",
    "        // YOUR CODE HERE\n",
    "        \n",
    "        int pos = 0;\n",
    "        ListItem i = this.head;\n",
    "        ListItem prev = null;\n",
    "        \n",
    "        if (p == 0) {\n",
    "            this.head = this.head.next;\n",
    "        } else {\n",
    "            while (pos != p) {\n",
    "                pos++;\n",
    "                prev = i;\n",
    "                i = i.next;\n",
    "            }\n",
    "            prev.next = i.next;\n",
    "        }\n",
    "    }\n",
    "  \n",
    "    LinkedList reverse() {\n",
    "        // YOUR CODE HERE\n",
    "        \n",
    "        LinkedList revList = new LinkedList();\n",
    "        int origSize = this.size();\n",
    "        int revSize = 0;\n",
    "        \n",
    "        while (origSize > revSize) {\n",
    "            ListItem i = this.head;\n",
    "            for (int c = 1; c < origSize - revSize; c++) {\n",
    "            i = i.next;\n",
    "            }\n",
    "            revList.append(i.value);\n",
    "            revSize++;\n",
    "        }\n",
    "        return revList;\n",
    "    }\n",
    "\n",
    "}"
   ]
  },
  {
   "cell_type": "markdown",
   "metadata": {
    "deletable": false,
    "editable": false,
    "nbgrader": {
     "cell_type": "markdown",
     "checksum": "4704b0c93df323221303fafdcf49c0c1",
     "grade": false,
     "grade_id": "cell-f946ce35ba601c92",
     "locked": true,
     "schema_version": 3,
     "solution": false,
     "task": false
    }
   },
   "source": [
    "Im folgenden Code wird eine Liste erstellt und dann die einzelnen Funktionen aufgerufen. Wenn Sie diese korrekt implementiert haben, sollten Sie diese Ausgabe bekommen:\n",
    "\n",
    "```\n",
    "Print all values:\n",
    "head shoulders knees toes\n",
    "Length:\n",
    "4\n",
    "List contains an element: 'knees'?\n",
    "true\n",
    "Delete the item at position 2:\n",
    "false\n",
    "Print all values in reverse order:\n",
    "toes shoulders head\n",
    "```"
   ]
  },
  {
   "cell_type": "code",
   "execution_count": 3,
   "metadata": {},
   "outputs": [
    {
     "name": "stdout",
     "output_type": "stream",
     "text": [
      "Print all values:\n",
      "head shoulders knees toes\n",
      "Length:\n",
      "4\n",
      "List contains an element: 'knees'?\n",
      "true\n",
      "Delete the item at position 2:\n",
      "false\n",
      "Print all values in reverse order:\n",
      "toes shoulders head\n"
     ]
    }
   ],
   "source": [
    "LinkedList bList = new LinkedList();\n",
    "bList.append(\"head\");\n",
    "bList.append(\"shoulders\");\n",
    "bList.append(\"knees\");\n",
    "bList.append(\"toes\");\n",
    "\n",
    "System.out.println(\"Print all values:\");\n",
    "System.out.println(bList.toString());\n",
    "System.out.println(\"Length:\");\n",
    "System.out.println(bList.size());\n",
    "\n",
    "System.out.println(\"List contains an element: 'knees'?\");\n",
    "System.out.println(bList.contains(\"knees\"));\n",
    "\n",
    "System.out.println(\"Delete the item at position 2:\");\n",
    "bList.deleteAt(2);\n",
    "bList.toString();\n",
    "System.out.println(bList.contains(\"knees\"));\n",
    "\n",
    "System.out.println(\"Print all values in reverse order:\");\n",
    "System.out.println(bList.reverse().toString());"
   ]
  },
  {
   "cell_type": "code",
   "execution_count": 4,
   "metadata": {
    "deletable": false,
    "editable": false,
    "nbgrader": {
     "cell_type": "code",
     "checksum": "76839c63b2ba6b66c84f334fbd4398f8",
     "grade": true,
     "grade_id": "cell-c1f1f84d3d11dc7b",
     "locked": true,
     "points": 6,
     "schema_version": 3,
     "solution": false,
     "task": false
    }
   },
   "outputs": [],
   "source": [
    "/* DO NOT DELETE OR ALTER THIS CELL! */\n",
    "\n",
    "assert bList.size() == 3;\n"
   ]
  }
 ],
 "metadata": {
  "kernelspec": {
   "display_name": "Java",
   "language": "java",
   "name": "java"
  },
  "language_info": {
   "codemirror_mode": "java",
   "file_extension": ".jshell",
   "mimetype": "text/x-java-source",
   "name": "Java",
   "pygments_lexer": "java",
   "version": "11.0.8+10-post-Ubuntu-0ubuntu120.04"
  }
 },
 "nbformat": 4,
 "nbformat_minor": 4
}
