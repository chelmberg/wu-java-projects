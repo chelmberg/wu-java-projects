{
 "cells": [
  {
   "cell_type": "markdown",
   "metadata": {
    "deletable": false,
    "editable": false,
    "nbgrader": {
     "cell_type": "markdown",
     "checksum": "b22e0f3c8a8965e6f7a6beed7216d07d",
     "grade": false,
     "grade_id": "cell-cd35c1289903872e",
     "locked": true,
     "schema_version": 3,
     "solution": false,
     "task": false
    }
   },
   "source": [
    "# Onlineaktivität 1: Sortieren und Suchen\n",
    "(Gruppenaufgabe)"
   ]
  },
  {
   "cell_type": "code",
   "execution_count": 1,
   "metadata": {
    "deletable": false,
    "editable": false,
    "nbgrader": {
     "cell_type": "code",
     "checksum": "f375531f0df49525c3635502d4506c00",
     "grade": false,
     "grade_id": "cell-f55095dd5c58ddf8",
     "locked": true,
     "schema_version": 3,
     "solution": false,
     "task": false
    }
   },
   "outputs": [
    {
     "ename": "LoadError",
     "evalue": "syntax: extra token \"phoneBook\" after end of expression",
     "output_type": "error",
     "traceback": [
      "syntax: extra token \"phoneBook\" after end of expression",
      "",
      "Stacktrace:",
      " [1] top-level scope at In[1]:1",
      " [2] include_string(::Function, ::Module, ::String, ::String) at ./loading.jl:1091",
      " [3] execute_code(::String, ::String) at /opt/julia/packages/IJulia/rWZ9e/src/execute_request.jl:27",
      " [4] execute_request(::ZMQ.Socket, ::IJulia.Msg) at /opt/julia/packages/IJulia/rWZ9e/src/execute_request.jl:86",
      " [5] #invokelatest#1 at ./essentials.jl:710 [inlined]",
      " [6] invokelatest at ./essentials.jl:709 [inlined]",
      " [7] eventloop(::ZMQ.Socket) at /opt/julia/packages/IJulia/rWZ9e/src/eventloop.jl:8",
      " [8] (::IJulia.var\"#15#18\")() at ./task.jl:356"
     ]
    }
   ],
   "source": [
    "String[][] phoneBook = {\n",
    "    /* firstname, surname, phone number */\n",
    "    {\"Courtney\",\"Acosta\",\"(01) 5565 4523\"},\n",
    "    {\"Yardley\",\"Lucas\",\"(03) 4677 0681\"},\n",
    "    {\"Jennifer\",\"Webb\",\"(06) 8604 6467\"},\n",
    "    {\"Leroy\",\"Schmidt\",\"(06) 8109 6804\"},\n",
    "    {\"Aimee\",\"Barry\",\"(07) 1700 6664\"},\n",
    "    {\"Charlotte\",\"Chambers\",\"(05) 8261 0680\"},\n",
    "    {\"Kameko\",\"Guthrie\",\"(07) 8222 2843\"},\n",
    "    {\"Branden\",\"Gillespie\",\"(01) 2779 7205\"},\n",
    "    {\"Karyn\",\"Morin\",\"(01) 0658 1271\"},\n",
    "    {\"Joel\",\"Carter\",\"(01) 5860 7796\"},\n",
    "    {\"Jamalia\",\"Ferguson\",\"(08) 5290 9722\"},\n",
    "    {\"Alice\",\"Watts\",\"(04) 4748 4864\"},\n",
    "    {\"Phillip\",\"Nieves\",\"(09) 8511 0785\"},\n",
    "    {\"Wyatt\",\"Perkins\",\"(05) 7904 0076\"},\n",
    "    {\"Mona\",\"Walter\",\"(06) 3666 7682\"},\n",
    "    {\"Aquila\",\"Hanson\",\"(09) 2137 1735\"},\n",
    "    {\"Ursa\",\"Roach\",\"(03) 1816 3766\"},\n",
    "    {\"Priscilla\",\"Hall\",\"(03) 9265 7056\"},\n",
    "    {\"Ruth\",\"Delacruz\",\"(05) 6939 7409\"},\n",
    "    {\"Nora\",\"Hanson\",\"(02) 4855 4456\"},\n",
    "    {\"Lamar\",\"Serrano\",\"(03) 0738 6158\"},\n",
    "    {\"Dustin\",\"Frank\",\"(08) 7699 7903\"},\n",
    "    {\"Stacy\",\"Henry\",\"(08) 3849 9603\"},\n",
    "    {\"Imani\",\"Drake\",\"(02) 1880 8612\"},\n",
    "    {\"Rae\",\"Hammond\",\"(03) 8385 1875\"},\n",
    "    {\"Jerome\",\"Cooke\",\"(07) 2872 5563\"},\n",
    "    {\"Kelsey\",\"Livingston\",\"(02) 7904 6218\"},\n",
    "    {\"Magee\",\"Collier\",\"(02) 9145 0959\"},\n",
    "    {\"Kasper\",\"Bird\",\"(05) 6394 1974\"},\n",
    "    {\"Cruz\",\"Compton\",\"(07) 4523 7390\"},\n",
    "    {\"Harper\",\"Glover\",\"(03) 1754 8818\"},\n",
    "    {\"Xavier\",\"Willis\",\"(02) 6710 6797\"},\n",
    "    {\"Baker\",\"Roth\",\"(06) 0718 1462\"},\n",
    "    {\"Melvin\",\"Hunter\",\"(08) 6606 7222\"},\n",
    "    {\"Blossom\",\"Buck\",\"(01) 3714 8019\"},\n",
    "    {\"Yardley\",\"Holland\",\"(08) 1845 8652\"},\n",
    "    {\"Dennis\",\"Williams\",\"(03) 9386 1976\"},\n",
    "    {\"Brooke\",\"West\",\"(02) 8751 0567\"},\n",
    "    {\"Timothy\",\"Osborn\",\"(04) 2403 3375\"},\n",
    "    {\"Frances\",\"Arnold\",\"(09) 3442 6062\"},\n",
    "    {\"Quincy\",\"Myers\",\"(07) 3826 9298\"},\n",
    "    {\"Lois\",\"Matthews\",\"(05) 7673 8203\"},\n",
    "    {\"Allen\",\"Hoover\",\"(02) 7087 6822\"},\n",
    "    {\"Ahmed\",\"Lott\",\"(03) 2345 5508\"},\n",
    "    {\"Kane\",\"Abbott\",\"(02) 8807 9695\"},\n",
    "    {\"Erich\",\"West\",\"(03) 4634 6576\"},\n",
    "    {\"Colin\",\"Fulton\",\"(03) 9714 4864\"},\n",
    "    {\"Fuller\",\"Cole\",\"(04) 3758 5247\"},\n",
    "    {\"Joy\",\"Bridges\",\"(09) 0487 1071\"},\n",
    "    {\"Ivor\",\"Fry\",\"(05) 3127 2880\"},\n",
    "    {\"Beau\",\"Taylor\",\"(06) 2715 1790\"},\n",
    "    {\"Cooper\",\"Head\",\"(07) 9082 4874\"},\n",
    "    {\"Raymond\",\"Moreno\",\"(09) 6468 4582\"},\n",
    "    {\"Tana\",\"Andrews\",\"(01) 9283 3438\"},\n",
    "    {\"Brian\",\"House\",\"(07) 0849 5313\"},\n",
    "    {\"Clarke\",\"Sharp\",\"(08) 3472 7278\"},\n",
    "    {\"Frances\",\"Blevins\",\"(03) 6695 8353\"},\n",
    "    {\"Chaney\",\"Puckett\",\"(06) 8185 5179\"},\n",
    "    {\"Venus\",\"Nolan\",\"(05) 3677 8169\"},\n",
    "    {\"Amethyst\",\"Cash\",\"(07) 1721 1128\"},\n",
    "    {\"Cadman\",\"Torres\",\"(05) 7036 4304\"},\n",
    "    {\"Emerson\",\"Rhodes\",\"(01) 5280 2483\"},\n",
    "    {\"Imani\",\"Walker\",\"(03) 0547 0139\"},\n",
    "    {\"Forrest\",\"Pittman\",\"(03) 1108 0957\"},\n",
    "    {\"Paul\",\"Ramos\",\"(03) 3663 2658\"},\n",
    "    {\"Neil\",\"Oneil\",\"(04) 1042 1380\"},\n",
    "    {\"Iliana\",\"Duncan\",\"(08) 3999 0482\"},\n",
    "    {\"Rina\",\"Terrell\",\"(05) 6499 1164\"},\n",
    "    {\"Basia\",\"Hays\",\"(06) 5162 9657\"},\n",
    "    {\"Rigel\",\"Haynes\",\"(01) 2542 4565\"},\n",
    "    {\"Reuben\",\"Cochran\",\"(03) 4138 2365\"},\n",
    "    {\"Hayes\",\"Sims\",\"(01) 3214 3452\"},\n",
    "    {\"Avye\",\"Lopez\",\"(05) 6148 2472\"},\n",
    "    {\"Craig\",\"Mcclure\",\"(01) 7396 6409\"},\n",
    "    {\"Benjamin\",\"Wells\",\"(03) 2073 2131\"},\n",
    "    {\"Latifah\",\"Conway\",\"(06) 8628 1375\"},\n",
    "    {\"Scott\",\"Jefferson\",\"(01) 4512 0466\"},\n",
    "    {\"Hedwig\",\"Torres\",\"(07) 2765 7164\"},\n",
    "    {\"Frances\",\"Mcpherson\",\"(07) 2047 9068\"},\n",
    "    {\"Deirdre\",\"Valencia\",\"(01) 5635 9044\"},\n",
    "    {\"Ima\",\"Hopkins\",\"(06) 0980 9352\"},\n",
    "    {\"Lawrence\",\"Giles\",\"(06) 7605 2238\"},\n",
    "    {\"Colin\",\"Raymond\",\"(08) 4716 9997\"},\n",
    "    {\"Molly\",\"Burke\",\"(01) 3198 8000\"},\n",
    "    {\"Desiree\",\"Workman\",\"(04) 9219 6651\"},\n",
    "    {\"Yoshio\",\"Browning\",\"(06) 9264 8633\"},\n",
    "    {\"McKenzie\",\"Giles\",\"(08) 5280 4980\"},\n",
    "    {\"Honorato\",\"Blanchard\",\"(09) 9703 5253\"},\n",
    "    {\"Clarke\",\"Ortiz\",\"(03) 4991 1294\"},\n",
    "    {\"Renee\",\"Hull\",\"(03) 3170 0677\"},\n",
    "    {\"Brady\",\"Byers\",\"(06) 7572 7911\"},\n",
    "    {\"Judah\",\"Washington\",\"(06) 0614 8493\"},\n",
    "    {\"Nora\",\"Todd\",\"(06) 7876 8155\"},\n",
    "    {\"Chase\",\"Pollard\",\"(08) 0699 2966\"},\n",
    "    {\"Cynthia\",\"Puckett\",\"(02) 2065 5235\"},\n",
    "    {\"Quincy\",\"Gould\",\"(03) 7455 2115\"},\n",
    "    {\"Aristotle\",\"Vaughan\",\"(04) 3533 1912\"},\n",
    "    {\"Wynter\",\"Hamilton\",\"(02) 1056 7540\"},\n",
    "    {\"Barclay\",\"Pena\",\"(09) 9589 5648\"},\n",
    "    {\"Armando\",\"Pearson\",\"(06) 1665 7102\"}\n",
    "};"
   ]
  },
  {
   "cell_type": "markdown",
   "metadata": {
    "deletable": false,
    "editable": false,
    "nbgrader": {
     "cell_type": "markdown",
     "checksum": "4aef4bcfeb42259d2745950a860a2697",
     "grade": false,
     "grade_id": "cell-57e23da172dbc865",
     "locked": true,
     "schema_version": 3,
     "solution": false,
     "task": false
    }
   },
   "source": [
    "## Aufgabe 1\n",
    "\n",
    "Gegegeben ist eine unsortierte Datenstruktur (ein zweidimensionales String-Feld: `String[][]`), welche ein Telefonbuch repräsentiert (sh. `phoneBook`). Jeder Telefonbucheintrag enthält Nachname, Vorname und Telefonnummer. Weiters gegeben ist eine Sortierungsfunktion `sort`. Das Ziel ist die aufsteigende Sortierung der Telefonbucheinträge nach Nachname. Bei gleichen Nachnamen entscheidet aufsteigend der Vorname.\n",
    "\n",
    "1. Diskutieren Sie zunächst die folgenden drei Fragen:\n",
    "  * Die Implementierung welches Sortieralgorithmus liegt vor?\n",
    "  * Erfolgt die Sortierung `in-place` oder `out-place`?\n",
    "  * Welche Defekte sind vorhanden? \n",
    "  * Wie sind die Defekte in der Implementierung zu beheben?\n",
    "2. Beheben Sie die gefundenen Defekte in der Implementierung von `sort`.\n",
    "3. Diskutieren Sie die folgenden weiterführenden Fragen (auf Basis der korrekten Implementierung):\n",
    "  * Warum wird `String.compareTo()` verwendet, und nicht nur ein einfacher Ausdruck mit Vergleichsoperator, z.B.: `>`, `<`?\n",
    "  * Warum wird in der inneren `for`-Schleife die Zählvariable `j` um `-i` korrigiert?\n",
    "  * Gibt es eine Möglichkeit, ohne die Variable `temp` auszukommen?"
   ]
  },
  {
   "cell_type": "code",
   "execution_count": 19,
   "metadata": {
    "deletable": false,
    "editable": false,
    "nbgrader": {
     "cell_type": "code",
     "checksum": "fd061785b4d2e0cee8b9e82a211762fc",
     "grade": false,
     "grade_id": "cell-577dd0d5007cb638",
     "locked": true,
     "schema_version": 3,
     "solution": false,
     "task": false
    }
   },
   "outputs": [],
   "source": [
    "/* Original, defective implementation */\n",
    "String[][] sort(String[][] pb) {\n",
    "    for (int i = 0; i < pb.length; i++) {\n",
    "        for (int j = 0; j < pb.length - i - 1; j++) { \n",
    "            if ((pb[j][1] + pb[j][0]).compareTo(pb[j + 1][1] + pb[j + 1][0]) < 0) {\n",
    "                String[] temp = pb[j + 1];\n",
    "                pb[j] = pb[j];\n",
    "                pb[j + 1] = temp;\n",
    "            }\n",
    "        }\n",
    "    }\n",
    "    return pb;\n",
    "}"
   ]
  },
  {
   "cell_type": "code",
   "execution_count": 20,
   "metadata": {
    "deletable": false,
    "nbgrader": {
     "cell_type": "code",
     "checksum": "43afdd70b6103497b37f3a7257bac1a0",
     "grade": false,
     "grade_id": "cell-82785b1fd912a53c",
     "locked": false,
     "schema_version": 3,
     "solution": true,
     "task": false
    }
   },
   "outputs": [],
   "source": [
    "/* Your corrected implementation */\n",
    "\n",
    "// YOUR CODE HERE\n",
    "String[][] sort(String[][] pb) {\n",
    "    for (int i = 0; i < pb.length; i++) {\n",
    "        for (int j = 0; j < pb.length - i - 1; j++) {         \n",
    "            if ((pb[j][1] + pb[j][0]).compareTo(pb[j + 1][1] + pb[j + 1][0]) > 0) {\n",
    "                String[] temp = pb[j];\n",
    "                pb[j] = pb[j + 1];\n",
    "                pb[j + 1] = temp;\n",
    "            }\n",
    "        }\n",
    "    }\n",
    "    \n",
    "    return pb;\n",
    "}\n",
    "\n",
    "var result = sort(phoneBook);"
   ]
  },
  {
   "cell_type": "code",
   "execution_count": 21,
   "metadata": {
    "deletable": false,
    "editable": false,
    "nbgrader": {
     "cell_type": "code",
     "checksum": "4e4fb7cdc6088bd996789151365c5ae5",
     "grade": true,
     "grade_id": "cell-226f50d1b2828c1a",
     "locked": true,
     "points": 4,
     "schema_version": 3,
     "solution": false,
     "task": false
    }
   },
   "outputs": [],
   "source": [
    "/* DO NOT DELETE OR ALTER THIS CELL! */\n",
    "\n",
    "assert result.length == phoneBook.length : \"T1.A1\";\n"
   ]
  },
  {
   "cell_type": "markdown",
   "metadata": {},
   "source": [
    "## <span style=\"color:red\"> Antworten: </span>\n",
    " \n",
    "1. \n",
    "  + Es liegt ein `Bubble Sort`Algorithmus vor.\n",
    "  + Durch die Benutzung von dem String \"temp\", erfolgt die sortierung `\"out-place\"`\n",
    "  + Defekte: \"<\" anstatt \">\" in der if Schleife, if Schleife wurde ausgeführt wenn nicht mehr sortiert werden musste\n",
    "              `pb[j] = pb[j + 1]`, der alphabetisch niedrigere Wert wird jetzt an die richtige Position gesetzt.\n",
    " \n",
    " \n",
    "2. \n",
    "  * Lösung im obigen Code\n",
    " \n",
    "3. \n",
    "  * Erklärung `.compareTo()` : \n",
    "   \".compareTo\" sortiert Strings nach dem Alphabet; \"<\" oder \">\" ist nur auf Zahlen anwendbar <br> \n",
    "   Bsp: `int result = StringA.compareTo(StringB)` <br>\n",
    "   `result` ist: <br> `kleiner als 0 wenn` : String B alphabethisch größer als String A <br>`0 wenn` : String A und B den selben alphabethischen Value haben<br> `größer als 0` : wenn String A einen größeren alphabethischen Value als String B hat\n",
    "  * `j-i` in der `for-Schleife` : `j` wird um `i` korrigiert, da die höchsten Werte dann bereits sortiert sind \n",
    "  * `temp` in der `if-Schleife` : Beim konkreten Bubble-Sort `Nein` , bei anderen Algorithmen wie zB. \"Selection-Sort\" findet die Vertauschung `in-place`statt - hier wäre es möglich ohne `temp`auszukommen "
   ]
  },
  {
   "cell_type": "markdown",
   "metadata": {
    "deletable": false,
    "editable": false,
    "nbgrader": {
     "cell_type": "markdown",
     "checksum": "6fbfa06a90cea55779b3736d1f3dd9c4",
     "grade": false,
     "grade_id": "cell-e0572325ea0239be",
     "locked": true,
     "schema_version": 3,
     "solution": false,
     "task": false
    }
   },
   "source": [
    "## Task 2\n",
    "\n",
    "Ausgehend von einem sortierten Telefonbuch (`result`), implementieren Sie die drei folgenden Such- bzw. Filterfunktionen.\n",
    "\n",
    "*Hinweis: Sie müssen entscheiden, welche Datenstrukturen Sie innerhalb der Funktionen verwenden, um die Auswahl zu halten. Sie haben dabei alle Optionen: eine statische Datenstruktur wie etwa einen zweiten zwei-dimensionalen Array oder dynamische Datenstrukturen, die Java bietet. Achten Sie auch darauf, dass Sie die Anzahl der benötigten Iterationen und Vergleichsoperationen minimieren!*"
   ]
  },
  {
   "cell_type": "markdown",
   "metadata": {
    "deletable": false,
    "editable": false,
    "nbgrader": {
     "cell_type": "markdown",
     "checksum": "94ee457327108e8380dd1f44a2dd5c7a",
     "grade": false,
     "grade_id": "cell-5aa13534e83e6317",
     "locked": true,
     "schema_version": 3,
     "solution": false,
     "task": false
    }
   },
   "source": [
    "### 2.1 `findByAreaCode`\n",
    "\n",
    "Die Funktion `findByAreaCode` erhält als Argumente das sortierte Telefonbuch und eine Vorwahl (\"area code\", als String!) als Suchbegriff. Die Funktion retourniert die Auswahl des sortierten Telefonbuchs, welche Telefonnummern mit der entsprechenden Vorwahl aufweisen. Wenn keine passenden Einträge gefunden werden, wird ein leeres zweidimensionales Feld (`String[][]` mit `length` 0) zurückgeliefert."
   ]
  },
  {
   "cell_type": "code",
   "execution_count": 22,
   "metadata": {
    "deletable": false,
    "nbgrader": {
     "cell_type": "code",
     "checksum": "7f517a19d54a8d24d417aa3ce5b40fa6",
     "grade": false,
     "grade_id": "cell-4bee33ac595f3b5f",
     "locked": false,
     "schema_version": 3,
     "solution": true,
     "task": false
    }
   },
   "outputs": [],
   "source": [
    "String[][] findByAreaCode(String[][] pb, String areaCode) {\n",
    "   // YOUR CODE HERE\n",
    "    \n",
    "    ArrayList<String[]> areaCodeResult = new ArrayList<String[]>();\n",
    "    String searchCode = \"(\"+areaCode+\")\";\n",
    "    \n",
    "    for (int i = 0; i < pb.length; i++) {\n",
    "        if (pb[i][2].contains(searchCode)) {\n",
    "            areaCodeResult.add(pb[i]);\n",
    "        }\n",
    "    }\n",
    "\n",
    "    return areaCodeResult.toArray(new String[areaCodeResult.size()][3]);\n",
    "}"
   ]
  },
  {
   "cell_type": "code",
   "execution_count": 23,
   "metadata": {
    "deletable": false,
    "editable": false,
    "nbgrader": {
     "cell_type": "code",
     "checksum": "65c822def636ed4eaded59a8de5e5935",
     "grade": true,
     "grade_id": "cell-9983be0ca657a536",
     "locked": true,
     "points": 1,
     "schema_version": 3,
     "solution": false,
     "task": false
    }
   },
   "outputs": [],
   "source": [
    "/* DO NOT DELETE OR ALTER THIS CELL! */\n",
    "\n",
    "assert findByAreaCode(result, \"09\").length <= result.length : \"T2.1.A1\";\n",
    "\n"
   ]
  },
  {
   "cell_type": "markdown",
   "metadata": {
    "deletable": false,
    "editable": false,
    "nbgrader": {
     "cell_type": "markdown",
     "checksum": "67f2ccc32033f37c1a57fc6fc4bb5ecc",
     "grade": false,
     "grade_id": "cell-9108300b2031fff3",
     "locked": true,
     "schema_version": 3,
     "solution": false,
     "task": false
    }
   },
   "source": [
    "### 2.2 `filterByRepeatedFirstName`\n",
    "\n",
    "Die Funktion `filterByRepeatedFirstName` erhält als Argument das sortierte Telefonbuch. Sie liefert die Auswahl jener Telefonbucheinträge, die einen Vornamen aufweisen, der im Telefonbuch (über der Sammlung aller Einträge) mehr als nur einmal vorkommt. Werden keine derartigen Einträge gefunden, wird ein leeres zweidimensionales Feld (`String[][]` mit `length` 0) zurückgeliefert."
   ]
  },
  {
   "cell_type": "code",
   "execution_count": 24,
   "metadata": {
    "deletable": false,
    "nbgrader": {
     "cell_type": "code",
     "checksum": "574ff2173697a9dd6464de03b6899ad8",
     "grade": false,
     "grade_id": "cell-b686b3dbaac2b3cf",
     "locked": false,
     "schema_version": 3,
     "solution": true,
     "task": false
    }
   },
   "outputs": [],
   "source": [
    "String[][] filterByRepeatedFirstName(String[][] pb) {\n",
    "    // YOUR CODE HERE\n",
    "    \n",
    "    ArrayList<String[]> repeatedFirstNames = new ArrayList<String[]>();\n",
    "    \n",
    "    for (int i = 0; i < pb.length; i++) {\n",
    "        String firstName = pb[i][0];\n",
    "        \n",
    "        for (int j = 0; j < pb.length; j++) {         \n",
    "            if (pb[j][0].equals(firstName) && j != i) {\n",
    "                repeatedFirstNames.add(pb[i]);\n",
    "                break;\n",
    "            }\n",
    "        }\n",
    "    }\n",
    "    \n",
    "    return repeatedFirstNames.toArray(new String[repeatedFirstNames.size()][3]);\n",
    "}"
   ]
  },
  {
   "cell_type": "code",
   "execution_count": 25,
   "metadata": {
    "deletable": false,
    "editable": false,
    "nbgrader": {
     "cell_type": "code",
     "checksum": "deacfddf647cf16648d45651ff7a6bc7",
     "grade": true,
     "grade_id": "cell-43bfa4b6a687f2e7",
     "locked": true,
     "points": 2,
     "schema_version": 3,
     "solution": false,
     "task": false
    }
   },
   "outputs": [],
   "source": [
    "/* DO NOT DELETE OR ALTER THIS CELL! */\n",
    "\n",
    "assert filterByRepeatedFirstName(result).length <= result.length : \"T2.2.A1\";\n"
   ]
  },
  {
   "cell_type": "markdown",
   "metadata": {
    "deletable": false,
    "editable": false,
    "nbgrader": {
     "cell_type": "markdown",
     "checksum": "9e93e86c1258b966f227ac563dc20852",
     "grade": false,
     "grade_id": "cell-77d4c8e19ef37469",
     "locked": true,
     "schema_version": 3,
     "solution": false,
     "task": false
    }
   },
   "source": [
    "### 2.3 `filterByUniqueSurname`\n",
    "\n",
    "Die Funktion `filterByUniqueSurname` erhält als Argument das sortierte Telefonbuch. Sie liefert die Auswahl jener Telefonbucheinträge, die einen Nachnamen aufweisen, der im Telefonbuch (über der Sammlung aller Einträge) nur einmal vorkommt. Werden keine derartigen Einträge gefunden, wird ein leeres zweidimensionales Feld (`String[][]` mit `length` 0) zurückgeliefert."
   ]
  },
  {
   "cell_type": "code",
   "execution_count": 26,
   "metadata": {
    "deletable": false,
    "nbgrader": {
     "cell_type": "code",
     "checksum": "2d14de5111306044a1e0df603fb40b6e",
     "grade": false,
     "grade_id": "cell-609625cef2ed0d4d",
     "locked": false,
     "schema_version": 3,
     "solution": true,
     "task": false
    }
   },
   "outputs": [],
   "source": [
    "String[][] filterByUniqueSurname(String[][] pb) {\n",
    "    // YOUR CODE HERE\n",
    "    \n",
    "    ArrayList<String[]> uniqueSurnames = new ArrayList<String[]>();\n",
    "    \n",
    "    for (int i = 0; i < pb.length; i++) {\n",
    "        String surName = pb[i][1];\n",
    "        Boolean repeated = false;\n",
    "        \n",
    "        for (int j = 0; j < pb.length; j++) {         \n",
    "            if (pb[j][1].equals(surName) && j != i) {\n",
    "                repeated = true;\n",
    "                break;\n",
    "            }\n",
    "        }\n",
    "        \n",
    "        if (repeated == false) {\n",
    "            uniqueSurnames.add(pb[i]);\n",
    "        }\n",
    "    }\n",
    "    \n",
    "    return uniqueSurnames.toArray(new String[uniqueSurnames.size()][3]);\n",
    "}"
   ]
  },
  {
   "cell_type": "code",
   "execution_count": 27,
   "metadata": {
    "deletable": false,
    "editable": false,
    "nbgrader": {
     "cell_type": "code",
     "checksum": "c18632967a7ffb77d2a29971f4148a7c",
     "grade": true,
     "grade_id": "cell-cf8894abb41ed120",
     "locked": true,
     "points": 3,
     "schema_version": 3,
     "solution": false,
     "task": false
    }
   },
   "outputs": [],
   "source": [
    "/* DO NOT DELETE OR ALTER THIS CELL! */\n",
    "\n",
    "assert filterByUniqueSurname(result).length <= phoneBook.length : \"T2.3.A1\";"
   ]
  }
 ],
 "metadata": {
  "kernelspec": {
   "display_name": "Julia 1.5.1",
   "language": "julia",
   "name": "julia-1.5"
  },
  "language_info": {
   "file_extension": ".jl",
   "mimetype": "application/julia",
   "name": "julia",
   "version": "1.5.1"
  }
 },
 "nbformat": 4,
 "nbformat_minor": 4
}
